{
  "nbformat": 4,
  "nbformat_minor": 0,
  "metadata": {
    "colab": {
      "provenance": []
    },
    "kernelspec": {
      "name": "python3",
      "display_name": "Python 3"
    },
    "language_info": {
      "name": "python"
    }
  },
  "cells": [
    {
      "cell_type": "code",
      "execution_count": 1,
      "metadata": {
        "id": "TSNr59Bdz_Ha"
      },
      "outputs": [],
      "source": [
        "import numpy as np\n",
        "import pandas as pd\n",
        "import matplotlib.pyplot as plt\n",
        "import  seaborn as sns\n",
        "data = pd.read_csv('/content/Wine_clust .csv')"
      ]
    },
    {
      "cell_type": "code",
      "source": [
        "print(data.head())\n",
        "\n",
        "# Summary statistics\n",
        "print(data.describe())\n",
        "\n",
        "# Check for missing values\n",
        "print(data.isnull().sum())"
      ],
      "metadata": {
        "colab": {
          "base_uri": "https://localhost:8080/"
        },
        "id": "JfSvzedu04HV",
        "outputId": "b64a8471-1753-4397-c0ed-6fb73626d4ee"
      },
      "execution_count": 2,
      "outputs": [
        {
          "output_type": "stream",
          "name": "stdout",
          "text": [
            "   Alcohol  Malic_Acid   Ash  Ash_Alcanity  Magnesium  Total_Phenols  \\\n",
            "0    14.23        1.71  2.43          15.6        127           2.80   \n",
            "1    13.20        1.78  2.14          11.2        100           2.65   \n",
            "2    13.16        2.36  2.67          18.6        101           2.80   \n",
            "3    14.37        1.95  2.50          16.8        113           3.85   \n",
            "4    13.24        2.59  2.87          21.0        118           2.80   \n",
            "\n",
            "   Flavanoids  Nonflavanoid_Phenols  Proanthocyanins  Color_Intensity   Hue  \\\n",
            "0        3.06                  0.28             2.29             5.64  1.04   \n",
            "1        2.76                  0.26             1.28             4.38  1.05   \n",
            "2        3.24                  0.30             2.81             5.68  1.03   \n",
            "3        3.49                  0.24             2.18             7.80  0.86   \n",
            "4        2.69                  0.39             1.82             4.32  1.04   \n",
            "\n",
            "   OD280  Proline  \n",
            "0   3.92     1065  \n",
            "1   3.40     1050  \n",
            "2   3.17     1185  \n",
            "3   3.45     1480  \n",
            "4   2.93      735  \n",
            "          Alcohol  Malic_Acid         Ash  Ash_Alcanity   Magnesium  \\\n",
            "count  178.000000  178.000000  178.000000    178.000000  178.000000   \n",
            "mean    13.000618    2.336348    2.366517     19.494944   99.741573   \n",
            "std      0.811827    1.117146    0.274344      3.339564   14.282484   \n",
            "min     11.030000    0.740000    1.360000     10.600000   70.000000   \n",
            "25%     12.362500    1.602500    2.210000     17.200000   88.000000   \n",
            "50%     13.050000    1.865000    2.360000     19.500000   98.000000   \n",
            "75%     13.677500    3.082500    2.557500     21.500000  107.000000   \n",
            "max     14.830000    5.800000    3.230000     30.000000  162.000000   \n",
            "\n",
            "       Total_Phenols  Flavanoids  Nonflavanoid_Phenols  Proanthocyanins  \\\n",
            "count     178.000000  178.000000            178.000000       178.000000   \n",
            "mean        2.295112    2.029270              0.361854         1.590899   \n",
            "std         0.625851    0.998859              0.124453         0.572359   \n",
            "min         0.980000    0.340000              0.130000         0.410000   \n",
            "25%         1.742500    1.205000              0.270000         1.250000   \n",
            "50%         2.355000    2.135000              0.340000         1.555000   \n",
            "75%         2.800000    2.875000              0.437500         1.950000   \n",
            "max         3.880000    5.080000              0.660000         3.580000   \n",
            "\n",
            "       Color_Intensity         Hue       OD280      Proline  \n",
            "count       178.000000  178.000000  178.000000   178.000000  \n",
            "mean          5.058090    0.957449    2.611685   746.893258  \n",
            "std           2.318286    0.228572    0.709990   314.907474  \n",
            "min           1.280000    0.480000    1.270000   278.000000  \n",
            "25%           3.220000    0.782500    1.937500   500.500000  \n",
            "50%           4.690000    0.965000    2.780000   673.500000  \n",
            "75%           6.200000    1.120000    3.170000   985.000000  \n",
            "max          13.000000    1.710000    4.000000  1680.000000  \n",
            "Alcohol                 0\n",
            "Malic_Acid              0\n",
            "Ash                     0\n",
            "Ash_Alcanity            0\n",
            "Magnesium               0\n",
            "Total_Phenols           0\n",
            "Flavanoids              0\n",
            "Nonflavanoid_Phenols    0\n",
            "Proanthocyanins         0\n",
            "Color_Intensity         0\n",
            "Hue                     0\n",
            "OD280                   0\n",
            "Proline                 0\n",
            "dtype: int64\n"
          ]
        }
      ]
    },
    {
      "cell_type": "code",
      "source": [
        "import numpy as np\n",
        "import pandas as pd\n",
        "from sklearn.cluster import KMeans, AgglomerativeClustering, DBSCAN\n",
        "from sklearn.metrics import silhouette_score\n",
        "from sklearn.preprocessing import StandardScaler\n",
        "\n",
        "# Load your dataset\n",
        "# Assuming your dataset is loaded into a DataFrame named 'data'\n",
        "# Replace 'data' with your actual DataFrame\n",
        "data = pd.read_csv('/content/Wine_clust .csv')"
      ],
      "metadata": {
        "id": "Jy2fW4715qO3"
      },
      "execution_count": 13,
      "outputs": []
    },
    {
      "cell_type": "code",
      "source": [
        "print(data.head())\n",
        "\n",
        "# Standardize the data\n",
        "scaler = StandardScaler()\n",
        "scaled_data = scaler.fit_transform(data)\n"
      ],
      "metadata": {
        "colab": {
          "base_uri": "https://localhost:8080/"
        },
        "id": "fRnoUUWb6oxW",
        "outputId": "49735539-7d36-4c57-f53b-5cd48351b2e4"
      },
      "execution_count": 17,
      "outputs": [
        {
          "output_type": "stream",
          "name": "stdout",
          "text": [
            "   Alcohol  Malic_Acid   Ash  Ash_Alcanity  Magnesium  Total_Phenols  \\\n",
            "0    14.23        1.71  2.43          15.6        127           2.80   \n",
            "1    13.20        1.78  2.14          11.2        100           2.65   \n",
            "2    13.16        2.36  2.67          18.6        101           2.80   \n",
            "3    14.37        1.95  2.50          16.8        113           3.85   \n",
            "4    13.24        2.59  2.87          21.0        118           2.80   \n",
            "\n",
            "   Flavanoids  Nonflavanoid_Phenols  Proanthocyanins  Color_Intensity   Hue  \\\n",
            "0        3.06                  0.28             2.29             5.64  1.04   \n",
            "1        2.76                  0.26             1.28             4.38  1.05   \n",
            "2        3.24                  0.30             2.81             5.68  1.03   \n",
            "3        3.49                  0.24             2.18             7.80  0.86   \n",
            "4        2.69                  0.39             1.82             4.32  1.04   \n",
            "\n",
            "   OD280  Proline  \n",
            "0   3.92     1065  \n",
            "1   3.40     1050  \n",
            "2   3.17     1185  \n",
            "3   3.45     1480  \n",
            "4   2.93      735  \n"
          ]
        }
      ]
    },
    {
      "cell_type": "code",
      "source": [
        "def kmeans_clustering(data, max_clusters=10):\n",
        "    silhouette_scores = []\n",
        "    for n_clusters in range(2, max_clusters + 1):\n",
        "        kmeans = KMeans(n_clusters=n_clusters, random_state=42)\n",
        "        cluster_labels = kmeans.fit_predict(data)\n",
        "        silhouette_avg = silhouette_score(data, cluster_labels)\n",
        "        silhouette_scores.append(silhouette_avg)"
      ],
      "metadata": {
        "id": "LOluDwIA8TwM"
      },
      "execution_count": 18,
      "outputs": []
    },
    {
      "cell_type": "code",
      "source": [
        "def dbscan_clustering(data, eps=0.5, min_samples=5):\n",
        "    dbscan = DBSCAN(eps=eps, min_samples=min_samples)\n",
        "    cluster_labels = dbscan.fit_predict(data)\n",
        "    n_clusters = len(set(cluster_labels)) - (1 if -1 in cluster_labels else 0)\n",
        "    print(\"Number of clusters (DBSCAN):\", n_clusters)\n",
        "\n",
        "    return dbscan, cluster_labels\n"
      ],
      "metadata": {
        "id": "Y3eEK9aB8mSj"
      },
      "execution_count": 21,
      "outputs": []
    },
    {
      "cell_type": "code",
      "source": [
        "dbscan_model, dbscan_labels = dbscan_clustering(scaled_data)"
      ],
      "metadata": {
        "colab": {
          "base_uri": "https://localhost:8080/"
        },
        "id": "w9javkJj-TVZ",
        "outputId": "64b68a00-2075-41f7-ca24-40a3ed40ad83"
      },
      "execution_count": 25,
      "outputs": [
        {
          "output_type": "stream",
          "name": "stdout",
          "text": [
            "Number of clusters (DBSCAN): 0\n"
          ]
        }
      ]
    },
    {
      "cell_type": "code",
      "source": [],
      "metadata": {
        "id": "wrSxDefI_W63"
      },
      "execution_count": null,
      "outputs": []
    }
  ]
}